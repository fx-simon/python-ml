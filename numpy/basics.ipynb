{
 "cells": [
  {
   "cell_type": "code",
   "execution_count": 1,
   "metadata": {},
   "outputs": [
    {
     "name": "stdout",
     "output_type": "stream",
     "text": [
      "numpy version:  1.11.3\n"
     ]
    }
   ],
   "source": [
    "import numpy as np\n",
    "print ('numpy version: ', np.__version__)"
   ]
  },
  {
   "cell_type": "markdown",
   "metadata": {},
   "source": [
    "## Array Creation"
   ]
  },
  {
   "cell_type": "markdown",
   "metadata": {},
   "source": [
    "* **ndarray.ndim**      \n",
    "* **ndarray.shape**    \n",
    "* **ndarray.size**     \n",
    "* **ndarray.dtype**   \n",
    "* **ndarray.itemsize** "
   ]
  },
  {
   "cell_type": "code",
   "execution_count": 23,
   "metadata": {},
   "outputs": [
    {
     "name": "stdout",
     "output_type": "stream",
     "text": [
      "[[ 0  1  2  3  5]\n",
      " [ 4  5  6  7  8]\n",
      " [ 8  9 10 11 12]]\n",
      "row : 3, columns : 5\n"
     ]
    }
   ],
   "source": [
    "a = np.array([[0,1,2,3,5], [4,5,6,7,8], [8,9,10,11,12]])\n",
    "print(a)\n",
    "rows, cols = np.shape(a)\n",
    "print (\"row : %d, columns : %d\" % (rows, cols))"
   ]
  },
  {
   "cell_type": "code",
   "execution_count": 15,
   "metadata": {},
   "outputs": [
    {
     "name": "stdout",
     "output_type": "stream",
     "text": [
      "2\n",
      "15\n",
      "int32\n",
      "4\n"
     ]
    }
   ],
   "source": [
    "print(a.ndim)\n",
    "print(a.size)\n",
    "print(a.dtype)\n",
    "# itemsize : item type size (bytes)\n",
    "print(a.itemsize)"
   ]
  },
  {
   "cell_type": "code",
   "execution_count": 17,
   "metadata": {},
   "outputs": [
    {
     "name": "stdout",
     "output_type": "stream",
     "text": [
      "float64\n",
      "8\n"
     ]
    }
   ],
   "source": [
    "a = np.array([[0,1,2,3,5], [4,5,6,7,8], [8,9,10,11,12]], dtype=np.float64)\n",
    "print(a.dtype)\n",
    "print(a.itemsize)"
   ]
  },
  {
   "cell_type": "code",
   "execution_count": 18,
   "metadata": {},
   "outputs": [
    {
     "name": "stdout",
     "output_type": "stream",
     "text": [
      "[[ 2.+0.j  3.+0.j]\n",
      " [ 6.+0.j  7.+0.j]]\n",
      "complex64\n",
      "8\n"
     ]
    }
   ],
   "source": [
    "b = np.array([[2,3], [6,7]], dtype=np.complex64)\n",
    "print(b)\n",
    "print(b.dtype)\n",
    "print(b.itemsize)"
   ]
  },
  {
   "cell_type": "markdown",
   "metadata": {},
   "source": [
    "###  Array creation functions"
   ]
  },
  {
   "cell_type": "code",
   "execution_count": 19,
   "metadata": {},
   "outputs": [
    {
     "data": {
      "text/plain": [
       "array([[ 0.,  0.,  0.,  0.],\n",
       "       [ 0.,  0.,  0.,  0.],\n",
       "       [ 0.,  0.,  0.,  0.]])"
      ]
     },
     "execution_count": 19,
     "metadata": {},
     "output_type": "execute_result"
    }
   ],
   "source": [
    "np.zeros((3,4))"
   ]
  },
  {
   "cell_type": "code",
   "execution_count": 22,
   "metadata": {},
   "outputs": [
    {
     "data": {
      "text/plain": [
       "array([[ 0.,  0.,  0.,  0.,  0.],\n",
       "       [ 0.,  0.,  0.,  0.,  0.],\n",
       "       [ 0.,  0.,  0.,  0.,  0.]])"
      ]
     },
     "execution_count": 22,
     "metadata": {},
     "output_type": "execute_result"
    }
   ],
   "source": [
    "# a array와 같은 모양의 0 array\n",
    "np.zeros_like(a)"
   ]
  },
  {
   "cell_type": "markdown",
   "metadata": {},
   "source": [
    "### Sequences and reshaping"
   ]
  },
  {
   "cell_type": "code",
   "execution_count": 35,
   "metadata": {},
   "outputs": [
    {
     "data": {
      "text/plain": [
       "array([0, 1, 2, 3])"
      ]
     },
     "execution_count": 35,
     "metadata": {},
     "output_type": "execute_result"
    }
   ],
   "source": [
    "np.arange(4)"
   ]
  },
  {
   "cell_type": "code",
   "execution_count": 29,
   "metadata": {},
   "outputs": [
    {
     "data": {
      "text/plain": [
       "array([[0, 1],\n",
       "       [2, 3]])"
      ]
     },
     "execution_count": 29,
     "metadata": {},
     "output_type": "execute_result"
    }
   ],
   "source": [
    "np.reshape(x, (2,2))"
   ]
  },
  {
   "cell_type": "code",
   "execution_count": 34,
   "metadata": {},
   "outputs": [
    {
     "data": {
      "text/plain": [
       "array([[0, 1],\n",
       "       [2, 3]])"
      ]
     },
     "execution_count": 34,
     "metadata": {},
     "output_type": "execute_result"
    }
   ],
   "source": [
    "np.arange(4).reshape(2,2)"
   ]
  },
  {
   "cell_type": "code",
   "execution_count": 36,
   "metadata": {},
   "outputs": [
    {
     "name": "stdout",
     "output_type": "stream",
     "text": [
      "[[ 0  1  2]\n",
      " [10 11 12]\n",
      " [20 21 22]\n",
      " [30 31 32]]\n"
     ]
    }
   ],
   "source": [
    "# for 문\n",
    "c = np.array([[10*j+i for i in range(3)] for j in range(4)])\n",
    "print (c)"
   ]
  },
  {
   "cell_type": "code",
   "execution_count": 39,
   "metadata": {},
   "outputs": [
    {
     "name": "stdout",
     "output_type": "stream",
     "text": [
      "[ 0  3  6  9 12]\n",
      "[[ 0]\n",
      " [ 3]\n",
      " [ 6]\n",
      " [ 9]\n",
      " [12]]\n"
     ]
    }
   ],
   "source": [
    "d = np.array([0, 3, 6, 9 ,12])\n",
    "print (d)\n",
    "\n",
    "# column 벡터 생성\n",
    "print (d[:, np.newaxis])       "
   ]
  },
  {
   "cell_type": "code",
   "execution_count": 40,
   "metadata": {},
   "outputs": [
    {
     "name": "stdout",
     "output_type": "stream",
     "text": [
      "[[0 0 0 0 0]\n",
      " [1 1 1 1 1]\n",
      " [2 2 2 2 2]\n",
      " [3 3 3 3 3]\n",
      " [4 4 4 4 4]]\n",
      "[[0 1 2 3 4]\n",
      " [0 1 2 3 4]\n",
      " [0 1 2 3 4]\n",
      " [0 1 2 3 4]\n",
      " [0 1 2 3 4]]\n"
     ]
    }
   ],
   "source": [
    "X, Y = np.mgrid[0:5, 0:5] \n",
    "print(X)\n",
    "print(Y)"
   ]
  },
  {
   "cell_type": "markdown",
   "metadata": {},
   "source": [
    "###  Sparse Matrices"
   ]
  },
  {
   "cell_type": "code",
   "execution_count": 47,
   "metadata": {},
   "outputs": [
    {
     "data": {
      "text/plain": [
       "array([[ 0.28525096,  0.62491671,  0.4780938 ,  0.19567518,  0.38231745,\n",
       "         0.05387369],\n",
       "       [ 0.45164841,  0.98200474,  0.1239427 ,  0.1193809 ,  0.73852306,\n",
       "         0.58730363],\n",
       "       [ 0.47163253,  0.10712682,  0.22921857,  0.89996519,  0.41675354,\n",
       "         0.53585166],\n",
       "       [ 0.00620852,  0.30064171,  0.43689317,  0.612149  ,  0.91819808,\n",
       "         0.62573667],\n",
       "       [ 0.70599757,  0.14983372,  0.74606341,  0.83100699,  0.63372577,\n",
       "         0.43830988]])"
      ]
     },
     "execution_count": 47,
     "metadata": {},
     "output_type": "execute_result"
    }
   ],
   "source": [
    "#np.random.seed(1234)\n",
    "X = np.random.random((5, 6))\n",
    "X"
   ]
  },
  {
   "cell_type": "code",
   "execution_count": 48,
   "metadata": {},
   "outputs": [
    {
     "data": {
      "text/plain": [
       "array([[ 0.15257277,  0.56840962,  0.52822428,  0.95142876,  0.48035918,\n",
       "         0.50255956],\n",
       "       [ 0.53687819,  0.81920207,  0.05711564,  0.66942174,  0.76711663,\n",
       "         0.70811536],\n",
       "       [ 0.79686718,  0.55776083,  0.96583653,  0.1471569 ,  0.029647  ,\n",
       "         0.59389349],\n",
       "       [ 0.1140657 ,  0.95080985,  0.32570741,  0.19361869,  0.45781165,\n",
       "         0.92040257],\n",
       "       [ 0.87906916,  0.25261576,  0.34800879,  0.18258873,  0.90179605,\n",
       "         0.70652816]])"
      ]
     },
     "execution_count": 48,
     "metadata": {},
     "output_type": "execute_result"
    }
   ],
   "source": [
    "X = np.random.random((5, 6))\n",
    "X"
   ]
  },
  {
   "cell_type": "code",
   "execution_count": 49,
   "metadata": {},
   "outputs": [
    {
     "data": {
      "text/plain": [
       "array([[ 0.        ,  0.        ,  0.        ,  0.95142876,  0.        ,\n",
       "         0.        ],\n",
       "       [ 0.        ,  0.        ,  0.        ,  0.        ,  0.        ,\n",
       "         0.        ],\n",
       "       [ 0.        ,  0.        ,  0.96583653,  0.        ,  0.        ,\n",
       "         0.        ],\n",
       "       [ 0.        ,  0.95080985,  0.        ,  0.        ,  0.        ,\n",
       "         0.92040257],\n",
       "       [ 0.87906916,  0.        ,  0.        ,  0.        ,  0.90179605,\n",
       "         0.        ]])"
      ]
     },
     "execution_count": 49,
     "metadata": {},
     "output_type": "execute_result"
    }
   ],
   "source": [
    "X[X < 0.85] = 0\n",
    "X"
   ]
  },
  {
   "cell_type": "code",
   "execution_count": 52,
   "metadata": {},
   "outputs": [
    {
     "data": {
      "text/plain": [
       "array([[ 0.        ,  0.        ,  0.        ,  0.95142876,  0.        ,\n",
       "         0.        ],\n",
       "       [ 0.        ,  0.        ,  0.        ,  0.        ,  0.        ,\n",
       "         0.        ],\n",
       "       [ 0.        ,  0.        ,  0.96583653,  0.        ,  0.        ,\n",
       "         0.        ],\n",
       "       [ 0.        ,  0.95080985,  0.        ,  0.        ,  0.        ,\n",
       "         0.92040257],\n",
       "       [ 0.87906916,  0.        ,  0.        ,  0.        ,  0.90179605,\n",
       "         0.        ]])"
      ]
     },
     "execution_count": 52,
     "metadata": {},
     "output_type": "execute_result"
    }
   ],
   "source": [
    "from scipy import sparse\n",
    "X_csr = sparse.csr_matrix(X) \n",
    "X_csr.toarray()"
   ]
  },
  {
   "cell_type": "markdown",
   "metadata": {},
   "source": [
    "### Random Numbers"
   ]
  },
  {
   "cell_type": "code",
   "execution_count": 54,
   "metadata": {},
   "outputs": [
    {
     "data": {
      "text/plain": [
       "array([[ 0.00934857,  0.90064862,  0.97724143,  0.55689468,  0.08477384],\n",
       "       [ 0.33300247,  0.72842868,  0.14243537,  0.55246894,  0.27304326],\n",
       "       [ 0.97449514,  0.66778691,  0.25565329,  0.10831149,  0.77618072],\n",
       "       [ 0.78247799,  0.76160391,  0.91440311,  0.65862278,  0.56836758]])"
      ]
     },
     "execution_count": 54,
     "metadata": {},
     "output_type": "execute_result"
    }
   ],
   "source": [
    "np.random.rand(4,5) # uniform random numbers in [0,1]"
   ]
  },
  {
   "cell_type": "code",
   "execution_count": 55,
   "metadata": {},
   "outputs": [
    {
     "data": {
      "text/plain": [
       "array([[ 0.63963276, -0.96202883, -2.08526564,  1.93024677, -1.73534887],\n",
       "       [ 1.2103837 ,  0.79743542, -0.37981078,  0.70256222, -0.85034627],\n",
       "       [ 1.17681245, -0.5243361 ,  0.70090773,  0.98418807, -0.12172841],\n",
       "       [ 2.36576863,  0.49614293,  0.79659487, -0.47402089, -0.05669572]])"
      ]
     },
     "execution_count": 55,
     "metadata": {},
     "output_type": "execute_result"
    }
   ],
   "source": [
    "np.random.randn(4,5) # standard normal distributed random numbers"
   ]
  },
  {
   "cell_type": "markdown",
   "metadata": {},
   "source": [
    "### Casting"
   ]
  },
  {
   "cell_type": "code",
   "execution_count": 58,
   "metadata": {},
   "outputs": [
    {
     "name": "stdout",
     "output_type": "stream",
     "text": [
      "float64\n",
      "[1 1 1]\n",
      "int32\n"
     ]
    }
   ],
   "source": [
    "a = np.array([1.7, 1.2, 1.6])\n",
    "print(a.dtype)\n",
    "b = a.astype(int)           \n",
    "print(b)\n",
    "print(b.dtype)"
   ]
  },
  {
   "cell_type": "markdown",
   "metadata": {},
   "source": [
    "### Rounding"
   ]
  },
  {
   "cell_type": "code",
   "execution_count": 60,
   "metadata": {},
   "outputs": [
    {
     "name": "stdout",
     "output_type": "stream",
     "text": [
      "[ 1.  2.  2.  2.  4.  4.]\n",
      "[1 2 2 2 4 4]\n"
     ]
    }
   ],
   "source": [
    "a = np.array([1.2, 1.5, 1.6, 2.5, 3.5, 4.5])\n",
    "b = np.around(a)\n",
    "print (b)                     \n",
    "c = np.around(a).astype(int)\n",
    "print (c)"
   ]
  },
  {
   "cell_type": "markdown",
   "metadata": {},
   "source": [
    "## 3 Basic Visualization with Bokeh"
   ]
  },
  {
   "cell_type": "code",
   "execution_count": 62,
   "metadata": {},
   "outputs": [
    {
     "data": {
      "text/html": [
       "\n",
       "    <div class=\"bk-root\">\n",
       "        <a href=\"http://bokeh.pydata.org\" target=\"_blank\" class=\"bk-logo bk-logo-small bk-logo-notebook\"></a>\n",
       "        <span id=\"a2597993-1847-4c0e-8c3c-ebc1ad3c2eff\">Loading BokehJS ...</span>\n",
       "    </div>"
      ]
     },
     "metadata": {},
     "output_type": "display_data"
    },
    {
     "data": {
      "application/javascript": [
       "\n",
       "(function(global) {\n",
       "  function now() {\n",
       "    return new Date();\n",
       "  }\n",
       "\n",
       "  var force = true;\n",
       "\n",
       "  if (typeof (window._bokeh_onload_callbacks) === \"undefined\" || force === true) {\n",
       "    window._bokeh_onload_callbacks = [];\n",
       "    window._bokeh_is_loading = undefined;\n",
       "  }\n",
       "\n",
       "\n",
       "  \n",
       "  if (typeof (window._bokeh_timeout) === \"undefined\" || force === true) {\n",
       "    window._bokeh_timeout = Date.now() + 5000;\n",
       "    window._bokeh_failed_load = false;\n",
       "  }\n",
       "\n",
       "  var NB_LOAD_WARNING = {'data': {'text/html':\n",
       "     \"<div style='background-color: #fdd'>\\n\"+\n",
       "     \"<p>\\n\"+\n",
       "     \"BokehJS does not appear to have successfully loaded. If loading BokehJS from CDN, this \\n\"+\n",
       "     \"may be due to a slow or bad network connection. Possible fixes:\\n\"+\n",
       "     \"</p>\\n\"+\n",
       "     \"<ul>\\n\"+\n",
       "     \"<li>re-rerun `output_notebook()` to attempt to load from CDN again, or</li>\\n\"+\n",
       "     \"<li>use INLINE resources instead, as so:</li>\\n\"+\n",
       "     \"</ul>\\n\"+\n",
       "     \"<code>\\n\"+\n",
       "     \"from bokeh.resources import INLINE\\n\"+\n",
       "     \"output_notebook(resources=INLINE)\\n\"+\n",
       "     \"</code>\\n\"+\n",
       "     \"</div>\"}};\n",
       "\n",
       "  function display_loaded() {\n",
       "    if (window.Bokeh !== undefined) {\n",
       "      var el = document.getElementById(\"a2597993-1847-4c0e-8c3c-ebc1ad3c2eff\");\n",
       "      el.textContent = \"BokehJS \" + Bokeh.version + \" successfully loaded.\";\n",
       "    } else if (Date.now() < window._bokeh_timeout) {\n",
       "      setTimeout(display_loaded, 100)\n",
       "    }\n",
       "  }\n",
       "\n",
       "  function run_callbacks() {\n",
       "    window._bokeh_onload_callbacks.forEach(function(callback) { callback() });\n",
       "    delete window._bokeh_onload_callbacks\n",
       "    console.info(\"Bokeh: all callbacks have finished\");\n",
       "  }\n",
       "\n",
       "  function load_libs(js_urls, callback) {\n",
       "    window._bokeh_onload_callbacks.push(callback);\n",
       "    if (window._bokeh_is_loading > 0) {\n",
       "      console.log(\"Bokeh: BokehJS is being loaded, scheduling callback at\", now());\n",
       "      return null;\n",
       "    }\n",
       "    if (js_urls == null || js_urls.length === 0) {\n",
       "      run_callbacks();\n",
       "      return null;\n",
       "    }\n",
       "    console.log(\"Bokeh: BokehJS not loaded, scheduling load and callback at\", now());\n",
       "    window._bokeh_is_loading = js_urls.length;\n",
       "    for (var i = 0; i < js_urls.length; i++) {\n",
       "      var url = js_urls[i];\n",
       "      var s = document.createElement('script');\n",
       "      s.src = url;\n",
       "      s.async = false;\n",
       "      s.onreadystatechange = s.onload = function() {\n",
       "        window._bokeh_is_loading--;\n",
       "        if (window._bokeh_is_loading === 0) {\n",
       "          console.log(\"Bokeh: all BokehJS libraries loaded\");\n",
       "          run_callbacks()\n",
       "        }\n",
       "      };\n",
       "      s.onerror = function() {\n",
       "        console.warn(\"failed to load library \" + url);\n",
       "      };\n",
       "      console.log(\"Bokeh: injecting script tag for BokehJS library: \", url);\n",
       "      document.getElementsByTagName(\"head\")[0].appendChild(s);\n",
       "    }\n",
       "  };var element = document.getElementById(\"a2597993-1847-4c0e-8c3c-ebc1ad3c2eff\");\n",
       "  if (element == null) {\n",
       "    console.log(\"Bokeh: ERROR: autoload.js configured with elementid 'a2597993-1847-4c0e-8c3c-ebc1ad3c2eff' but no matching script tag was found. \")\n",
       "    return false;\n",
       "  }\n",
       "\n",
       "  var js_urls = [\"https://cdn.pydata.org/bokeh/release/bokeh-0.12.5.min.js\", \"https://cdn.pydata.org/bokeh/release/bokeh-widgets-0.12.5.min.js\"];\n",
       "\n",
       "  var inline_js = [\n",
       "    function(Bokeh) {\n",
       "      Bokeh.set_log_level(\"info\");\n",
       "    },\n",
       "    \n",
       "    function(Bokeh) {\n",
       "      \n",
       "    },\n",
       "    \n",
       "    function(Bokeh) {\n",
       "      \n",
       "      document.getElementById(\"a2597993-1847-4c0e-8c3c-ebc1ad3c2eff\").textContent = \"BokehJS is loading...\";\n",
       "    },\n",
       "    function(Bokeh) {\n",
       "      console.log(\"Bokeh: injecting CSS: https://cdn.pydata.org/bokeh/release/bokeh-0.12.5.min.css\");\n",
       "      Bokeh.embed.inject_css(\"https://cdn.pydata.org/bokeh/release/bokeh-0.12.5.min.css\");\n",
       "      console.log(\"Bokeh: injecting CSS: https://cdn.pydata.org/bokeh/release/bokeh-widgets-0.12.5.min.css\");\n",
       "      Bokeh.embed.inject_css(\"https://cdn.pydata.org/bokeh/release/bokeh-widgets-0.12.5.min.css\");\n",
       "    }\n",
       "  ];\n",
       "\n",
       "  function run_inline_js() {\n",
       "    \n",
       "    if ((window.Bokeh !== undefined) || (force === true)) {\n",
       "      for (var i = 0; i < inline_js.length; i++) {\n",
       "        inline_js[i](window.Bokeh);\n",
       "      }if (force === true) {\n",
       "        display_loaded();\n",
       "      }} else if (Date.now() < window._bokeh_timeout) {\n",
       "      setTimeout(run_inline_js, 100);\n",
       "    } else if (!window._bokeh_failed_load) {\n",
       "      console.log(\"Bokeh: BokehJS failed to load within specified timeout.\");\n",
       "      window._bokeh_failed_load = true;\n",
       "    } else if (force !== true) {\n",
       "      var cell = $(document.getElementById(\"a2597993-1847-4c0e-8c3c-ebc1ad3c2eff\")).parents('.cell').data().cell;\n",
       "      cell.output_area.append_execute_result(NB_LOAD_WARNING)\n",
       "    }\n",
       "\n",
       "  }\n",
       "\n",
       "  if (window._bokeh_is_loading === 0) {\n",
       "    console.log(\"Bokeh: BokehJS loaded, going straight to plotting\");\n",
       "    run_inline_js();\n",
       "  } else {\n",
       "    load_libs(js_urls, function() {\n",
       "      console.log(\"Bokeh: BokehJS plotting callback run at\", now());\n",
       "      run_inline_js();\n",
       "    });\n",
       "  }\n",
       "}(this));"
      ]
     },
     "metadata": {},
     "output_type": "display_data"
    }
   ],
   "source": [
    "import bokeh.plotting as bk\n",
    "bk.output_notebook()"
   ]
  },
  {
   "cell_type": "markdown",
   "metadata": {},
   "source": [
    "### D Plotting"
   ]
  },
  {
   "cell_type": "code",
   "execution_count": 63,
   "metadata": {
    "scrolled": false
   },
   "outputs": [
    {
     "data": {
      "text/html": [
       "\n",
       "\n",
       "    <div class=\"bk-root\">\n",
       "        <div class=\"bk-plotdiv\" id=\"73d17a21-6e4e-4a6f-922e-72a563c4fb65\"></div>\n",
       "    </div>\n",
       "<script type=\"text/javascript\">\n",
       "  \n",
       "  (function(global) {\n",
       "    function now() {\n",
       "      return new Date();\n",
       "    }\n",
       "  \n",
       "    var force = false;\n",
       "  \n",
       "    if (typeof (window._bokeh_onload_callbacks) === \"undefined\" || force === true) {\n",
       "      window._bokeh_onload_callbacks = [];\n",
       "      window._bokeh_is_loading = undefined;\n",
       "    }\n",
       "  \n",
       "  \n",
       "    \n",
       "    if (typeof (window._bokeh_timeout) === \"undefined\" || force === true) {\n",
       "      window._bokeh_timeout = Date.now() + 0;\n",
       "      window._bokeh_failed_load = false;\n",
       "    }\n",
       "  \n",
       "    var NB_LOAD_WARNING = {'data': {'text/html':\n",
       "       \"<div style='background-color: #fdd'>\\n\"+\n",
       "       \"<p>\\n\"+\n",
       "       \"BokehJS does not appear to have successfully loaded. If loading BokehJS from CDN, this \\n\"+\n",
       "       \"may be due to a slow or bad network connection. Possible fixes:\\n\"+\n",
       "       \"</p>\\n\"+\n",
       "       \"<ul>\\n\"+\n",
       "       \"<li>re-rerun `output_notebook()` to attempt to load from CDN again, or</li>\\n\"+\n",
       "       \"<li>use INLINE resources instead, as so:</li>\\n\"+\n",
       "       \"</ul>\\n\"+\n",
       "       \"<code>\\n\"+\n",
       "       \"from bokeh.resources import INLINE\\n\"+\n",
       "       \"output_notebook(resources=INLINE)\\n\"+\n",
       "       \"</code>\\n\"+\n",
       "       \"</div>\"}};\n",
       "  \n",
       "    function display_loaded() {\n",
       "      if (window.Bokeh !== undefined) {\n",
       "        var el = document.getElementById(\"73d17a21-6e4e-4a6f-922e-72a563c4fb65\");\n",
       "        el.textContent = \"BokehJS \" + Bokeh.version + \" successfully loaded.\";\n",
       "      } else if (Date.now() < window._bokeh_timeout) {\n",
       "        setTimeout(display_loaded, 100)\n",
       "      }\n",
       "    }\n",
       "  \n",
       "    function run_callbacks() {\n",
       "      window._bokeh_onload_callbacks.forEach(function(callback) { callback() });\n",
       "      delete window._bokeh_onload_callbacks\n",
       "      console.info(\"Bokeh: all callbacks have finished\");\n",
       "    }\n",
       "  \n",
       "    function load_libs(js_urls, callback) {\n",
       "      window._bokeh_onload_callbacks.push(callback);\n",
       "      if (window._bokeh_is_loading > 0) {\n",
       "        console.log(\"Bokeh: BokehJS is being loaded, scheduling callback at\", now());\n",
       "        return null;\n",
       "      }\n",
       "      if (js_urls == null || js_urls.length === 0) {\n",
       "        run_callbacks();\n",
       "        return null;\n",
       "      }\n",
       "      console.log(\"Bokeh: BokehJS not loaded, scheduling load and callback at\", now());\n",
       "      window._bokeh_is_loading = js_urls.length;\n",
       "      for (var i = 0; i < js_urls.length; i++) {\n",
       "        var url = js_urls[i];\n",
       "        var s = document.createElement('script');\n",
       "        s.src = url;\n",
       "        s.async = false;\n",
       "        s.onreadystatechange = s.onload = function() {\n",
       "          window._bokeh_is_loading--;\n",
       "          if (window._bokeh_is_loading === 0) {\n",
       "            console.log(\"Bokeh: all BokehJS libraries loaded\");\n",
       "            run_callbacks()\n",
       "          }\n",
       "        };\n",
       "        s.onerror = function() {\n",
       "          console.warn(\"failed to load library \" + url);\n",
       "        };\n",
       "        console.log(\"Bokeh: injecting script tag for BokehJS library: \", url);\n",
       "        document.getElementsByTagName(\"head\")[0].appendChild(s);\n",
       "      }\n",
       "    };var element = document.getElementById(\"73d17a21-6e4e-4a6f-922e-72a563c4fb65\");\n",
       "    if (element == null) {\n",
       "      console.log(\"Bokeh: ERROR: autoload.js configured with elementid '73d17a21-6e4e-4a6f-922e-72a563c4fb65' but no matching script tag was found. \")\n",
       "      return false;\n",
       "    }\n",
       "  \n",
       "    var js_urls = [];\n",
       "  \n",
       "    var inline_js = [\n",
       "      function(Bokeh) {\n",
       "        (function() {\n",
       "          var fn = function() {\n",
       "            var docs_json = {\"eb6e399e-6c34-4888-81fd-de168d1cc870\":{\"roots\":{\"references\":[{\"attributes\":{\"line_alpha\":{\"value\":0.1},\"line_color\":{\"value\":\"#1f77b4\"},\"x\":{\"field\":\"x\"},\"y\":{\"field\":\"y\"}},\"id\":\"3fe38848-4e9b-43c1-9e07-61d8453eeec0\",\"type\":\"Line\"},{\"attributes\":{\"line_color\":{\"value\":\"#1f77b4\"},\"x\":{\"field\":\"x\"},\"y\":{\"field\":\"y\"}},\"id\":\"a4d73578-a680-4323-82b7-4c9930ee4eca\",\"type\":\"Line\"},{\"attributes\":{},\"id\":\"74d3fc03-f483-4cab-9f78-85af385fe028\",\"type\":\"BasicTickFormatter\"},{\"attributes\":{\"plot\":null,\"text\":\"\"},\"id\":\"0779ea4b-ca04-4e9d-a658-a1cd00c6c0bb\",\"type\":\"Title\"},{\"attributes\":{\"plot\":{\"id\":\"d1ddc9f5-0f98-4046-8117-3c2a0d74768c\",\"subtype\":\"Figure\",\"type\":\"Plot\"}},\"id\":\"ee9e9550-acad-4ec2-ab21-08c0337aeb6b\",\"type\":\"HelpTool\"},{\"attributes\":{\"below\":[{\"id\":\"d559349e-f98f-4a3a-9f83-6b35845cbe8a\",\"type\":\"LinearAxis\"}],\"left\":[{\"id\":\"34aec3ac-aa62-4fa9-9eb9-3caa3b0d729c\",\"type\":\"LinearAxis\"}],\"renderers\":[{\"id\":\"d559349e-f98f-4a3a-9f83-6b35845cbe8a\",\"type\":\"LinearAxis\"},{\"id\":\"1b13bea0-ba4b-4222-971f-33081a2f1a44\",\"type\":\"Grid\"},{\"id\":\"34aec3ac-aa62-4fa9-9eb9-3caa3b0d729c\",\"type\":\"LinearAxis\"},{\"id\":\"0aea1770-9de5-44f9-90b6-777c839d4049\",\"type\":\"Grid\"},{\"id\":\"f81be12f-37c5-45d4-949e-dcf1b2df50e6\",\"type\":\"BoxAnnotation\"},{\"id\":\"2508012d-57a6-467d-8c20-6b8e8f0862ef\",\"type\":\"GlyphRenderer\"},{\"id\":\"3eff7187-43e1-4858-8b64-7dec865f57f1\",\"type\":\"GlyphRenderer\"}],\"title\":{\"id\":\"0779ea4b-ca04-4e9d-a658-a1cd00c6c0bb\",\"type\":\"Title\"},\"tool_events\":{\"id\":\"fdc94103-0ac9-41b1-b2eb-0093c60e5499\",\"type\":\"ToolEvents\"},\"toolbar\":{\"id\":\"87e00639-8418-49ee-97c2-64e8f900b9d1\",\"type\":\"Toolbar\"},\"x_range\":{\"id\":\"4e4ea21b-a1e3-4508-9183-d43f69e48d53\",\"type\":\"DataRange1d\"},\"y_range\":{\"id\":\"60a0ec0e-2bcb-4ea4-9b47-965eb037260b\",\"type\":\"DataRange1d\"}},\"id\":\"d1ddc9f5-0f98-4046-8117-3c2a0d74768c\",\"subtype\":\"Figure\",\"type\":\"Plot\"},{\"attributes\":{\"data_source\":{\"id\":\"dda1f67d-d309-4397-9093-bf3ead5de9fd\",\"type\":\"ColumnDataSource\"},\"glyph\":{\"id\":\"a4d73578-a680-4323-82b7-4c9930ee4eca\",\"type\":\"Line\"},\"hover_glyph\":null,\"muted_glyph\":null,\"nonselection_glyph\":{\"id\":\"3fe38848-4e9b-43c1-9e07-61d8453eeec0\",\"type\":\"Line\"},\"selection_glyph\":null},\"id\":\"2508012d-57a6-467d-8c20-6b8e8f0862ef\",\"type\":\"GlyphRenderer\"},{\"attributes\":{\"data_source\":{\"id\":\"4edeb49b-e971-4fc5-a757-ef37c8f64d4f\",\"type\":\"ColumnDataSource\"},\"glyph\":{\"id\":\"2b939c32-4c81-4e09-8d95-1237bcdfa6e4\",\"type\":\"Circle\"},\"hover_glyph\":null,\"muted_glyph\":null,\"nonselection_glyph\":{\"id\":\"e4132bcc-42d0-4bb5-8d75-1c7793c4d4cc\",\"type\":\"Circle\"},\"selection_glyph\":null},\"id\":\"3eff7187-43e1-4858-8b64-7dec865f57f1\",\"type\":\"GlyphRenderer\"},{\"attributes\":{\"callback\":null,\"column_names\":[\"y\",\"x\"],\"data\":{\"x\":{\"__ndarray__\":\"AAAAAAAAAABeQ3kN5TXEP15DeQ3lNdQ/DeU1lNdQ3j9eQ3kN5TXkPzaU11BeQ+k/DeU1lNdQ7j/yGsprKK/xP15DeQ3lNfQ/ymsor6G89j82lNdQXkP5P6G8hvIayvs/DeU1lNdQ/j+8hvIaymsAQPIaymsorwFAKK+hvIbyAkBeQ3kN5TUEQJTXUF5DeQVAymsor6G8BkAAAAAAAAAIQA==\",\"dtype\":\"float64\",\"shape\":[20]},\"y\":{\"__ndarray__\":\"AAAAAAAAAAAN5TWU11DePw3lNZTXUO4/ymsor6G89j8N5TWU11D+PyivobyG8gJAymsor6G8BkBrKK+hvIYKQA3lNZTXUA5A11BeQ3kNEUAor6G8hvISQHkN5TWU1xRAymsor6G8FkAbymsor6EYQGsor6G8hhpAvIbyGsprHEAN5TWU11AeQK+hvIbyGiBA11BeQ3kNIUAAAAAAAAAiQA==\",\"dtype\":\"float64\",\"shape\":[20]}}},\"id\":\"dda1f67d-d309-4397-9093-bf3ead5de9fd\",\"type\":\"ColumnDataSource\"},{\"attributes\":{},\"id\":\"a34a105d-6438-4494-be32-1b056cf1d3cd\",\"type\":\"BasicTicker\"},{\"attributes\":{\"callback\":null},\"id\":\"4e4ea21b-a1e3-4508-9183-d43f69e48d53\",\"type\":\"DataRange1d\"},{\"attributes\":{\"plot\":{\"id\":\"d1ddc9f5-0f98-4046-8117-3c2a0d74768c\",\"subtype\":\"Figure\",\"type\":\"Plot\"}},\"id\":\"adcea469-1b49-4dcd-b4af-be83941c219e\",\"type\":\"ResetTool\"},{\"attributes\":{},\"id\":\"fdc94103-0ac9-41b1-b2eb-0093c60e5499\",\"type\":\"ToolEvents\"},{\"attributes\":{\"dimension\":1,\"plot\":{\"id\":\"d1ddc9f5-0f98-4046-8117-3c2a0d74768c\",\"subtype\":\"Figure\",\"type\":\"Plot\"},\"ticker\":{\"id\":\"bde57c1c-096c-4068-b4d6-ab4adf4df569\",\"type\":\"BasicTicker\"}},\"id\":\"0aea1770-9de5-44f9-90b6-777c839d4049\",\"type\":\"Grid\"},{\"attributes\":{\"active_drag\":\"auto\",\"active_scroll\":\"auto\",\"active_tap\":\"auto\",\"tools\":[{\"id\":\"58513f4b-b73c-4404-a945-4985a57e5aaa\",\"type\":\"PanTool\"},{\"id\":\"97a47382-9895-4145-af74-50444efe6aa0\",\"type\":\"WheelZoomTool\"},{\"id\":\"3ad3f5c2-cfc1-48ef-bfe8-185e3b95c7eb\",\"type\":\"BoxZoomTool\"},{\"id\":\"996c5843-dd90-41a0-b3a1-1dc9492f204e\",\"type\":\"SaveTool\"},{\"id\":\"adcea469-1b49-4dcd-b4af-be83941c219e\",\"type\":\"ResetTool\"},{\"id\":\"ee9e9550-acad-4ec2-ab21-08c0337aeb6b\",\"type\":\"HelpTool\"}]},\"id\":\"87e00639-8418-49ee-97c2-64e8f900b9d1\",\"type\":\"Toolbar\"},{\"attributes\":{\"fill_color\":{\"value\":\"green\"},\"line_color\":{\"value\":\"green\"},\"x\":{\"field\":\"x\"},\"y\":{\"field\":\"y\"}},\"id\":\"2b939c32-4c81-4e09-8d95-1237bcdfa6e4\",\"type\":\"Circle\"},{\"attributes\":{\"formatter\":{\"id\":\"2f8fffa8-c000-454f-9843-104859249126\",\"type\":\"BasicTickFormatter\"},\"plot\":{\"id\":\"d1ddc9f5-0f98-4046-8117-3c2a0d74768c\",\"subtype\":\"Figure\",\"type\":\"Plot\"},\"ticker\":{\"id\":\"a34a105d-6438-4494-be32-1b056cf1d3cd\",\"type\":\"BasicTicker\"}},\"id\":\"d559349e-f98f-4a3a-9f83-6b35845cbe8a\",\"type\":\"LinearAxis\"},{\"attributes\":{\"callback\":null},\"id\":\"60a0ec0e-2bcb-4ea4-9b47-965eb037260b\",\"type\":\"DataRange1d\"},{\"attributes\":{\"formatter\":{\"id\":\"74d3fc03-f483-4cab-9f78-85af385fe028\",\"type\":\"BasicTickFormatter\"},\"plot\":{\"id\":\"d1ddc9f5-0f98-4046-8117-3c2a0d74768c\",\"subtype\":\"Figure\",\"type\":\"Plot\"},\"ticker\":{\"id\":\"bde57c1c-096c-4068-b4d6-ab4adf4df569\",\"type\":\"BasicTicker\"}},\"id\":\"34aec3ac-aa62-4fa9-9eb9-3caa3b0d729c\",\"type\":\"LinearAxis\"},{\"attributes\":{\"plot\":{\"id\":\"d1ddc9f5-0f98-4046-8117-3c2a0d74768c\",\"subtype\":\"Figure\",\"type\":\"Plot\"}},\"id\":\"97a47382-9895-4145-af74-50444efe6aa0\",\"type\":\"WheelZoomTool\"},{\"attributes\":{\"bottom_units\":\"screen\",\"fill_alpha\":{\"value\":0.5},\"fill_color\":{\"value\":\"lightgrey\"},\"left_units\":\"screen\",\"level\":\"overlay\",\"line_alpha\":{\"value\":1.0},\"line_color\":{\"value\":\"black\"},\"line_dash\":[4,4],\"line_width\":{\"value\":2},\"plot\":null,\"render_mode\":\"css\",\"right_units\":\"screen\",\"top_units\":\"screen\"},\"id\":\"f81be12f-37c5-45d4-949e-dcf1b2df50e6\",\"type\":\"BoxAnnotation\"},{\"attributes\":{\"plot\":{\"id\":\"d1ddc9f5-0f98-4046-8117-3c2a0d74768c\",\"subtype\":\"Figure\",\"type\":\"Plot\"}},\"id\":\"996c5843-dd90-41a0-b3a1-1dc9492f204e\",\"type\":\"SaveTool\"},{\"attributes\":{\"callback\":null,\"column_names\":[\"y\",\"x\"],\"data\":{\"x\":{\"__ndarray__\":\"AAAAAAAAAABeQ3kN5TXEP15DeQ3lNdQ/DeU1lNdQ3j9eQ3kN5TXkPzaU11BeQ+k/DeU1lNdQ7j/yGsprKK/xP15DeQ3lNfQ/ymsor6G89j82lNdQXkP5P6G8hvIayvs/DeU1lNdQ/j+8hvIaymsAQPIaymsorwFAKK+hvIbyAkBeQ3kN5TUEQJTXUF5DeQVAymsor6G8BkAAAAAAAAAIQA==\",\"dtype\":\"float64\",\"shape\":[20]},\"y\":{\"__ndarray__\":\"AAAAAAAAAAAN5TWU11DePw3lNZTXUO4/ymsor6G89j8N5TWU11D+PyivobyG8gJAymsor6G8BkBrKK+hvIYKQA3lNZTXUA5A11BeQ3kNEUAor6G8hvISQHkN5TWU1xRAymsor6G8FkAbymsor6EYQGsor6G8hhpAvIbyGsprHEAN5TWU11AeQK+hvIbyGiBA11BeQ3kNIUAAAAAAAAAiQA==\",\"dtype\":\"float64\",\"shape\":[20]}}},\"id\":\"4edeb49b-e971-4fc5-a757-ef37c8f64d4f\",\"type\":\"ColumnDataSource\"},{\"attributes\":{},\"id\":\"bde57c1c-096c-4068-b4d6-ab4adf4df569\",\"type\":\"BasicTicker\"},{\"attributes\":{\"fill_alpha\":{\"value\":0.1},\"fill_color\":{\"value\":\"#1f77b4\"},\"line_alpha\":{\"value\":0.1},\"line_color\":{\"value\":\"#1f77b4\"},\"x\":{\"field\":\"x\"},\"y\":{\"field\":\"y\"}},\"id\":\"e4132bcc-42d0-4bb5-8d75-1c7793c4d4cc\",\"type\":\"Circle\"},{\"attributes\":{\"plot\":{\"id\":\"d1ddc9f5-0f98-4046-8117-3c2a0d74768c\",\"subtype\":\"Figure\",\"type\":\"Plot\"},\"ticker\":{\"id\":\"a34a105d-6438-4494-be32-1b056cf1d3cd\",\"type\":\"BasicTicker\"}},\"id\":\"1b13bea0-ba4b-4222-971f-33081a2f1a44\",\"type\":\"Grid\"},{\"attributes\":{},\"id\":\"2f8fffa8-c000-454f-9843-104859249126\",\"type\":\"BasicTickFormatter\"},{\"attributes\":{\"plot\":{\"id\":\"d1ddc9f5-0f98-4046-8117-3c2a0d74768c\",\"subtype\":\"Figure\",\"type\":\"Plot\"}},\"id\":\"58513f4b-b73c-4404-a945-4985a57e5aaa\",\"type\":\"PanTool\"},{\"attributes\":{\"overlay\":{\"id\":\"f81be12f-37c5-45d4-949e-dcf1b2df50e6\",\"type\":\"BoxAnnotation\"},\"plot\":{\"id\":\"d1ddc9f5-0f98-4046-8117-3c2a0d74768c\",\"subtype\":\"Figure\",\"type\":\"Plot\"}},\"id\":\"3ad3f5c2-cfc1-48ef-bfe8-185e3b95c7eb\",\"type\":\"BoxZoomTool\"}],\"root_ids\":[\"d1ddc9f5-0f98-4046-8117-3c2a0d74768c\"]},\"title\":\"Bokeh Application\",\"version\":\"0.12.5\"}};\n",
       "            var render_items = [{\"docid\":\"eb6e399e-6c34-4888-81fd-de168d1cc870\",\"elementid\":\"73d17a21-6e4e-4a6f-922e-72a563c4fb65\",\"modelid\":\"d1ddc9f5-0f98-4046-8117-3c2a0d74768c\"}];\n",
       "            \n",
       "            Bokeh.embed.embed_items(docs_json, render_items);\n",
       "          };\n",
       "          if (document.readyState != \"loading\") fn();\n",
       "          else document.addEventListener(\"DOMContentLoaded\", fn);\n",
       "        })();\n",
       "      },\n",
       "      function(Bokeh) {\n",
       "      }\n",
       "    ];\n",
       "  \n",
       "    function run_inline_js() {\n",
       "      \n",
       "      if ((window.Bokeh !== undefined) || (force === true)) {\n",
       "        for (var i = 0; i < inline_js.length; i++) {\n",
       "          inline_js[i](window.Bokeh);\n",
       "        }if (force === true) {\n",
       "          display_loaded();\n",
       "        }} else if (Date.now() < window._bokeh_timeout) {\n",
       "        setTimeout(run_inline_js, 100);\n",
       "      } else if (!window._bokeh_failed_load) {\n",
       "        console.log(\"Bokeh: BokehJS failed to load within specified timeout.\");\n",
       "        window._bokeh_failed_load = true;\n",
       "      } else if (force !== true) {\n",
       "        var cell = $(document.getElementById(\"73d17a21-6e4e-4a6f-922e-72a563c4fb65\")).parents('.cell').data().cell;\n",
       "        cell.output_area.append_execute_result(NB_LOAD_WARNING)\n",
       "      }\n",
       "  \n",
       "    }\n",
       "  \n",
       "    if (window._bokeh_is_loading === 0) {\n",
       "      console.log(\"Bokeh: BokehJS loaded, going straight to plotting\");\n",
       "      run_inline_js();\n",
       "    } else {\n",
       "      load_libs(js_urls, function() {\n",
       "        console.log(\"Bokeh: BokehJS plotting callback run at\", now());\n",
       "        run_inline_js();\n",
       "      });\n",
       "    }\n",
       "  }(this));\n",
       "</script>"
      ]
     },
     "metadata": {},
     "output_type": "display_data"
    }
   ],
   "source": [
    "x = np.linspace(0, 3, 20)\n",
    "y = np.linspace(0, 9, 20)\n",
    "fig = bk.figure()\n",
    "fig.line(x, y)\n",
    "fig.circle(x, y, color='green')\n",
    "bk.show(fig)"
   ]
  },
  {
   "cell_type": "markdown",
   "metadata": {},
   "source": [
    "## Basic Linear Algebra"
   ]
  },
  {
   "cell_type": "code",
   "execution_count": 69,
   "metadata": {},
   "outputs": [
    {
     "name": "stdout",
     "output_type": "stream",
     "text": [
      "[ 0.          0.15789474  0.31578947  0.47368421  0.63157895  0.78947368\n",
      "  0.94736842  1.10526316  1.26315789  1.42105263  1.57894737  1.73684211\n",
      "  1.89473684  2.05263158  2.21052632  2.36842105  2.52631579  2.68421053\n",
      "  2.84210526  3.        ]\n",
      "--------------------------------------------------------------------------------\n",
      "[ 0.          0.15789474  0.31578947  0.47368421  0.63157895  0.78947368\n",
      "  0.94736842  1.10526316  1.26315789  1.42105263  1.57894737  1.73684211\n",
      "  1.89473684  2.05263158  2.21052632  2.36842105  2.52631579  2.68421053\n",
      "  2.84210526  3.        ]\n"
     ]
    }
   ],
   "source": [
    "# 전치행렬\n",
    "print(x)\n",
    "print('--------------------------------------------------------------------------------')\n",
    "print (x.T)"
   ]
  },
  {
   "cell_type": "code",
   "execution_count": 70,
   "metadata": {},
   "outputs": [
    {
     "data": {
      "text/plain": [
       "0.0"
      ]
     },
     "execution_count": 70,
     "metadata": {},
     "output_type": "execute_result"
    }
   ],
   "source": [
    "x.min()"
   ]
  },
  {
   "cell_type": "code",
   "execution_count": 71,
   "metadata": {},
   "outputs": [
    {
     "name": "stdout",
     "output_type": "stream",
     "text": [
      "[  0.           0.78947368   1.57894737   2.36842105   3.15789474\n",
      "   3.94736842   4.73684211   5.52631579   6.31578947   7.10526316\n",
      "   7.89473684   8.68421053   9.47368421  10.26315789  11.05263158\n",
      "  11.84210526  12.63157895  13.42105263  14.21052632  15.        ]\n"
     ]
    }
   ],
   "source": [
    "print (x*5)         "
   ]
  },
  {
   "cell_type": "code",
   "execution_count": 72,
   "metadata": {},
   "outputs": [
    {
     "name": "stdout",
     "output_type": "stream",
     "text": [
      "61.5789473684\n"
     ]
    }
   ],
   "source": [
    "print (np.dot(x,x.T))  # Dot (matrix) product"
   ]
  },
  {
   "cell_type": "markdown",
   "metadata": {},
   "source": [
    "## Slicing "
   ]
  },
  {
   "cell_type": "code",
   "execution_count": 75,
   "metadata": {},
   "outputs": [
    {
     "data": {
      "text/plain": [
       "array([[ 0,  1,  2,  3,  4,  5],\n",
       "       [10, 11, 12, 13, 14, 15],\n",
       "       [20, 21, 22, 23, 24, 25],\n",
       "       [30, 31, 32, 33, 34, 35],\n",
       "       [40, 41, 42, 43, 44, 45],\n",
       "       [50, 51, 52, 53, 54, 55]])"
      ]
     },
     "execution_count": 75,
     "metadata": {},
     "output_type": "execute_result"
    }
   ],
   "source": [
    "a = np.array([[10*j+i for i in range(6)] for j in range(6)])\n",
    "a"
   ]
  },
  {
   "cell_type": "code",
   "execution_count": 83,
   "metadata": {},
   "outputs": [
    {
     "name": "stdout",
     "output_type": "stream",
     "text": [
      "[3 4]\n",
      "[[44 45]\n",
      " [54 55]]\n",
      "[ 2 12 22 32 42 52]\n",
      "[[20 22 24]\n",
      " [40 42 44]]\n"
     ]
    }
   ],
   "source": [
    "print(a[0,3:5])     # Orange\n",
    "print(a[4:,4:])     # Blue\n",
    "print(a[:, 2])      # Red\n",
    "#  :: - 건너뛰기\n",
    "print(a[2::2, ::2]) # Green"
   ]
  },
  {
   "cell_type": "markdown",
   "metadata": {},
   "source": [
    "<img src=\"files/utilities/numpy_array.jpg\" >"
   ]
  },
  {
   "cell_type": "code",
   "execution_count": 85,
   "metadata": {},
   "outputs": [
    {
     "name": "stdout",
     "output_type": "stream",
     "text": [
      "[[ 0  1  2  3  4  5]\n",
      " [10 11 12 13 14 15]\n",
      " [20 21 22 23 24 25]\n",
      " [30 31 32 33 34 35]\n",
      " [40 41 42 43 44 45]\n",
      " [50 51 52 53 54 55]]\n"
     ]
    },
    {
     "data": {
      "text/plain": [
       "array([[ 0,  1,  2,  3,  4,  5],\n",
       "       [10, 11, 12, 13, 14, 15],\n",
       "       [20, 21, 22, 23, 24, 25],\n",
       "       [30, 31, 32, 33, 34, 35],\n",
       "       [40, 41, 42, 43, 44, 45],\n",
       "       [50, 51, 52, 53, 54, 55]])"
      ]
     },
     "execution_count": 85,
     "metadata": {},
     "output_type": "execute_result"
    }
   ],
   "source": [
    "# 복사\n",
    "print(a)\n",
    "c = np.array(a, copy=True)\n",
    "c"
   ]
  }
 ],
 "metadata": {
  "kernelspec": {
   "display_name": "Python 3",
   "language": "python",
   "name": "python3"
  },
  "language_info": {
   "codemirror_mode": {
    "name": "ipython",
    "version": 3
   },
   "file_extension": ".py",
   "mimetype": "text/x-python",
   "name": "python",
   "nbconvert_exporter": "python",
   "pygments_lexer": "ipython3",
   "version": "3.5.3"
  }
 },
 "nbformat": 4,
 "nbformat_minor": 1
}
